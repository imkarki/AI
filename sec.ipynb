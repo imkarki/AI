{
 "cells": [
  {
   "cell_type": "code",
   "execution_count": 1,
   "id": "e5ac4233",
   "metadata": {},
   "outputs": [],
   "source": [
    "import numpy as np\n",
    "import pandas as pd \n",
    "from sklearn.model_selection import train_test_split\n",
    "from sklearn.linear_model import LogisticRegression\n",
    "from sklearn.metrics import accuracy_score"
   ]
  },
  {
   "cell_type": "code",
   "execution_count": 2,
   "id": "2a2ee82e",
   "metadata": {},
   "outputs": [],
   "source": [
    "#Data collection and Processing"
   ]
  },
  {
   "cell_type": "code",
   "execution_count": 4,
   "id": "b5f8dbea",
   "metadata": {},
   "outputs": [],
   "source": [
    "#loading the csv data\n",
    "import zipfile\n",
    "zip_ref=zipfile.ZipFile('heart_diesease.zip','r')\n",
    "zip_ref.extractall()\n",
    "zip_ref.close()\n"
   ]
  },
  {
   "cell_type": "code",
   "execution_count": 5,
   "id": "94565e0b",
   "metadata": {},
   "outputs": [
    {
     "data": {
      "text/html": [
       "<div>\n",
       "<style scoped>\n",
       "    .dataframe tbody tr th:only-of-type {\n",
       "        vertical-align: middle;\n",
       "    }\n",
       "\n",
       "    .dataframe tbody tr th {\n",
       "        vertical-align: top;\n",
       "    }\n",
       "\n",
       "    .dataframe thead th {\n",
       "        text-align: right;\n",
       "    }\n",
       "</style>\n",
       "<table border=\"1\" class=\"dataframe\">\n",
       "  <thead>\n",
       "    <tr style=\"text-align: right;\">\n",
       "      <th></th>\n",
       "      <th>age</th>\n",
       "      <th>anaemia</th>\n",
       "      <th>creatinine_phosphokinase</th>\n",
       "      <th>diabetes</th>\n",
       "      <th>ejection_fraction</th>\n",
       "      <th>high_blood_pressure</th>\n",
       "      <th>platelets</th>\n",
       "      <th>serum_creatinine</th>\n",
       "      <th>serum_sodium</th>\n",
       "      <th>sex</th>\n",
       "      <th>smoking</th>\n",
       "      <th>time</th>\n",
       "      <th>DEATH_EVENT</th>\n",
       "    </tr>\n",
       "  </thead>\n",
       "  <tbody>\n",
       "    <tr>\n",
       "      <th>0</th>\n",
       "      <td>55.0</td>\n",
       "      <td>0</td>\n",
       "      <td>748</td>\n",
       "      <td>0</td>\n",
       "      <td>45</td>\n",
       "      <td>0</td>\n",
       "      <td>263358.03</td>\n",
       "      <td>1.3</td>\n",
       "      <td>137</td>\n",
       "      <td>1</td>\n",
       "      <td>1</td>\n",
       "      <td>88</td>\n",
       "      <td>0</td>\n",
       "    </tr>\n",
       "    <tr>\n",
       "      <th>1</th>\n",
       "      <td>65.0</td>\n",
       "      <td>0</td>\n",
       "      <td>56</td>\n",
       "      <td>0</td>\n",
       "      <td>25</td>\n",
       "      <td>0</td>\n",
       "      <td>305000.00</td>\n",
       "      <td>5.0</td>\n",
       "      <td>130</td>\n",
       "      <td>1</td>\n",
       "      <td>0</td>\n",
       "      <td>207</td>\n",
       "      <td>0</td>\n",
       "    </tr>\n",
       "    <tr>\n",
       "      <th>2</th>\n",
       "      <td>45.0</td>\n",
       "      <td>0</td>\n",
       "      <td>582</td>\n",
       "      <td>1</td>\n",
       "      <td>38</td>\n",
       "      <td>0</td>\n",
       "      <td>319000.00</td>\n",
       "      <td>0.9</td>\n",
       "      <td>140</td>\n",
       "      <td>0</td>\n",
       "      <td>0</td>\n",
       "      <td>244</td>\n",
       "      <td>0</td>\n",
       "    </tr>\n",
       "    <tr>\n",
       "      <th>3</th>\n",
       "      <td>60.0</td>\n",
       "      <td>1</td>\n",
       "      <td>754</td>\n",
       "      <td>1</td>\n",
       "      <td>40</td>\n",
       "      <td>1</td>\n",
       "      <td>328000.00</td>\n",
       "      <td>1.2</td>\n",
       "      <td>126</td>\n",
       "      <td>1</td>\n",
       "      <td>0</td>\n",
       "      <td>90</td>\n",
       "      <td>0</td>\n",
       "    </tr>\n",
       "    <tr>\n",
       "      <th>4</th>\n",
       "      <td>95.0</td>\n",
       "      <td>1</td>\n",
       "      <td>582</td>\n",
       "      <td>0</td>\n",
       "      <td>30</td>\n",
       "      <td>0</td>\n",
       "      <td>461000.00</td>\n",
       "      <td>2.0</td>\n",
       "      <td>132</td>\n",
       "      <td>1</td>\n",
       "      <td>0</td>\n",
       "      <td>50</td>\n",
       "      <td>1</td>\n",
       "    </tr>\n",
       "    <tr>\n",
       "      <th>...</th>\n",
       "      <td>...</td>\n",
       "      <td>...</td>\n",
       "      <td>...</td>\n",
       "      <td>...</td>\n",
       "      <td>...</td>\n",
       "      <td>...</td>\n",
       "      <td>...</td>\n",
       "      <td>...</td>\n",
       "      <td>...</td>\n",
       "      <td>...</td>\n",
       "      <td>...</td>\n",
       "      <td>...</td>\n",
       "      <td>...</td>\n",
       "    </tr>\n",
       "    <tr>\n",
       "      <th>4995</th>\n",
       "      <td>45.0</td>\n",
       "      <td>0</td>\n",
       "      <td>582</td>\n",
       "      <td>1</td>\n",
       "      <td>55</td>\n",
       "      <td>0</td>\n",
       "      <td>543000.00</td>\n",
       "      <td>1.0</td>\n",
       "      <td>132</td>\n",
       "      <td>0</td>\n",
       "      <td>0</td>\n",
       "      <td>250</td>\n",
       "      <td>0</td>\n",
       "    </tr>\n",
       "    <tr>\n",
       "      <th>4996</th>\n",
       "      <td>60.0</td>\n",
       "      <td>1</td>\n",
       "      <td>582</td>\n",
       "      <td>0</td>\n",
       "      <td>30</td>\n",
       "      <td>1</td>\n",
       "      <td>127000.00</td>\n",
       "      <td>0.9</td>\n",
       "      <td>145</td>\n",
       "      <td>0</td>\n",
       "      <td>0</td>\n",
       "      <td>95</td>\n",
       "      <td>0</td>\n",
       "    </tr>\n",
       "    <tr>\n",
       "      <th>4997</th>\n",
       "      <td>95.0</td>\n",
       "      <td>1</td>\n",
       "      <td>112</td>\n",
       "      <td>0</td>\n",
       "      <td>40</td>\n",
       "      <td>1</td>\n",
       "      <td>196000.00</td>\n",
       "      <td>1.0</td>\n",
       "      <td>138</td>\n",
       "      <td>0</td>\n",
       "      <td>0</td>\n",
       "      <td>24</td>\n",
       "      <td>1</td>\n",
       "    </tr>\n",
       "    <tr>\n",
       "      <th>4998</th>\n",
       "      <td>65.0</td>\n",
       "      <td>1</td>\n",
       "      <td>160</td>\n",
       "      <td>1</td>\n",
       "      <td>20</td>\n",
       "      <td>0</td>\n",
       "      <td>327000.00</td>\n",
       "      <td>2.7</td>\n",
       "      <td>116</td>\n",
       "      <td>0</td>\n",
       "      <td>0</td>\n",
       "      <td>8</td>\n",
       "      <td>1</td>\n",
       "    </tr>\n",
       "    <tr>\n",
       "      <th>4999</th>\n",
       "      <td>40.0</td>\n",
       "      <td>0</td>\n",
       "      <td>244</td>\n",
       "      <td>0</td>\n",
       "      <td>45</td>\n",
       "      <td>1</td>\n",
       "      <td>275000.00</td>\n",
       "      <td>0.9</td>\n",
       "      <td>140</td>\n",
       "      <td>0</td>\n",
       "      <td>0</td>\n",
       "      <td>174</td>\n",
       "      <td>0</td>\n",
       "    </tr>\n",
       "  </tbody>\n",
       "</table>\n",
       "<p>5000 rows × 13 columns</p>\n",
       "</div>"
      ],
      "text/plain": [
       "       age  anaemia  creatinine_phosphokinase  diabetes  ejection_fraction  \\\n",
       "0     55.0        0                       748         0                 45   \n",
       "1     65.0        0                        56         0                 25   \n",
       "2     45.0        0                       582         1                 38   \n",
       "3     60.0        1                       754         1                 40   \n",
       "4     95.0        1                       582         0                 30   \n",
       "...    ...      ...                       ...       ...                ...   \n",
       "4995  45.0        0                       582         1                 55   \n",
       "4996  60.0        1                       582         0                 30   \n",
       "4997  95.0        1                       112         0                 40   \n",
       "4998  65.0        1                       160         1                 20   \n",
       "4999  40.0        0                       244         0                 45   \n",
       "\n",
       "      high_blood_pressure  platelets  serum_creatinine  serum_sodium  sex  \\\n",
       "0                       0  263358.03               1.3           137    1   \n",
       "1                       0  305000.00               5.0           130    1   \n",
       "2                       0  319000.00               0.9           140    0   \n",
       "3                       1  328000.00               1.2           126    1   \n",
       "4                       0  461000.00               2.0           132    1   \n",
       "...                   ...        ...               ...           ...  ...   \n",
       "4995                    0  543000.00               1.0           132    0   \n",
       "4996                    1  127000.00               0.9           145    0   \n",
       "4997                    1  196000.00               1.0           138    0   \n",
       "4998                    0  327000.00               2.7           116    0   \n",
       "4999                    1  275000.00               0.9           140    0   \n",
       "\n",
       "      smoking  time  DEATH_EVENT  \n",
       "0           1    88            0  \n",
       "1           0   207            0  \n",
       "2           0   244            0  \n",
       "3           0    90            0  \n",
       "4           0    50            1  \n",
       "...       ...   ...          ...  \n",
       "4995        0   250            0  \n",
       "4996        0    95            0  \n",
       "4997        0    24            1  \n",
       "4998        0     8            1  \n",
       "4999        0   174            0  \n",
       "\n",
       "[5000 rows x 13 columns]"
      ]
     },
     "execution_count": 5,
     "metadata": {},
     "output_type": "execute_result"
    }
   ],
   "source": [
    "df=pd.read_csv('heart_failure.csv')\n",
    "df"
   ]
  },
  {
   "cell_type": "code",
   "execution_count": 6,
   "id": "4508f1a0",
   "metadata": {},
   "outputs": [
    {
     "data": {
      "text/html": [
       "<div>\n",
       "<style scoped>\n",
       "    .dataframe tbody tr th:only-of-type {\n",
       "        vertical-align: middle;\n",
       "    }\n",
       "\n",
       "    .dataframe tbody tr th {\n",
       "        vertical-align: top;\n",
       "    }\n",
       "\n",
       "    .dataframe thead th {\n",
       "        text-align: right;\n",
       "    }\n",
       "</style>\n",
       "<table border=\"1\" class=\"dataframe\">\n",
       "  <thead>\n",
       "    <tr style=\"text-align: right;\">\n",
       "      <th></th>\n",
       "      <th>age</th>\n",
       "      <th>anaemia</th>\n",
       "      <th>creatinine_phosphokinase</th>\n",
       "      <th>diabetes</th>\n",
       "      <th>ejection_fraction</th>\n",
       "      <th>high_blood_pressure</th>\n",
       "      <th>platelets</th>\n",
       "      <th>serum_creatinine</th>\n",
       "      <th>serum_sodium</th>\n",
       "      <th>sex</th>\n",
       "      <th>smoking</th>\n",
       "      <th>time</th>\n",
       "      <th>DEATH_EVENT</th>\n",
       "    </tr>\n",
       "  </thead>\n",
       "  <tbody>\n",
       "    <tr>\n",
       "      <th>4995</th>\n",
       "      <td>45.0</td>\n",
       "      <td>0</td>\n",
       "      <td>582</td>\n",
       "      <td>1</td>\n",
       "      <td>55</td>\n",
       "      <td>0</td>\n",
       "      <td>543000.0</td>\n",
       "      <td>1.0</td>\n",
       "      <td>132</td>\n",
       "      <td>0</td>\n",
       "      <td>0</td>\n",
       "      <td>250</td>\n",
       "      <td>0</td>\n",
       "    </tr>\n",
       "    <tr>\n",
       "      <th>4996</th>\n",
       "      <td>60.0</td>\n",
       "      <td>1</td>\n",
       "      <td>582</td>\n",
       "      <td>0</td>\n",
       "      <td>30</td>\n",
       "      <td>1</td>\n",
       "      <td>127000.0</td>\n",
       "      <td>0.9</td>\n",
       "      <td>145</td>\n",
       "      <td>0</td>\n",
       "      <td>0</td>\n",
       "      <td>95</td>\n",
       "      <td>0</td>\n",
       "    </tr>\n",
       "    <tr>\n",
       "      <th>4997</th>\n",
       "      <td>95.0</td>\n",
       "      <td>1</td>\n",
       "      <td>112</td>\n",
       "      <td>0</td>\n",
       "      <td>40</td>\n",
       "      <td>1</td>\n",
       "      <td>196000.0</td>\n",
       "      <td>1.0</td>\n",
       "      <td>138</td>\n",
       "      <td>0</td>\n",
       "      <td>0</td>\n",
       "      <td>24</td>\n",
       "      <td>1</td>\n",
       "    </tr>\n",
       "    <tr>\n",
       "      <th>4998</th>\n",
       "      <td>65.0</td>\n",
       "      <td>1</td>\n",
       "      <td>160</td>\n",
       "      <td>1</td>\n",
       "      <td>20</td>\n",
       "      <td>0</td>\n",
       "      <td>327000.0</td>\n",
       "      <td>2.7</td>\n",
       "      <td>116</td>\n",
       "      <td>0</td>\n",
       "      <td>0</td>\n",
       "      <td>8</td>\n",
       "      <td>1</td>\n",
       "    </tr>\n",
       "    <tr>\n",
       "      <th>4999</th>\n",
       "      <td>40.0</td>\n",
       "      <td>0</td>\n",
       "      <td>244</td>\n",
       "      <td>0</td>\n",
       "      <td>45</td>\n",
       "      <td>1</td>\n",
       "      <td>275000.0</td>\n",
       "      <td>0.9</td>\n",
       "      <td>140</td>\n",
       "      <td>0</td>\n",
       "      <td>0</td>\n",
       "      <td>174</td>\n",
       "      <td>0</td>\n",
       "    </tr>\n",
       "  </tbody>\n",
       "</table>\n",
       "</div>"
      ],
      "text/plain": [
       "       age  anaemia  creatinine_phosphokinase  diabetes  ejection_fraction  \\\n",
       "4995  45.0        0                       582         1                 55   \n",
       "4996  60.0        1                       582         0                 30   \n",
       "4997  95.0        1                       112         0                 40   \n",
       "4998  65.0        1                       160         1                 20   \n",
       "4999  40.0        0                       244         0                 45   \n",
       "\n",
       "      high_blood_pressure  platelets  serum_creatinine  serum_sodium  sex  \\\n",
       "4995                    0   543000.0               1.0           132    0   \n",
       "4996                    1   127000.0               0.9           145    0   \n",
       "4997                    1   196000.0               1.0           138    0   \n",
       "4998                    0   327000.0               2.7           116    0   \n",
       "4999                    1   275000.0               0.9           140    0   \n",
       "\n",
       "      smoking  time  DEATH_EVENT  \n",
       "4995        0   250            0  \n",
       "4996        0    95            0  \n",
       "4997        0    24            1  \n",
       "4998        0     8            1  \n",
       "4999        0   174            0  "
      ]
     },
     "execution_count": 6,
     "metadata": {},
     "output_type": "execute_result"
    }
   ],
   "source": [
    "#print last 5 rows of dataset\n",
    "df.tail()"
   ]
  },
  {
   "cell_type": "code",
   "execution_count": 7,
   "id": "4ce893d2",
   "metadata": {},
   "outputs": [
    {
     "name": "stdout",
     "output_type": "stream",
     "text": [
      "<class 'pandas.core.frame.DataFrame'>\n",
      "RangeIndex: 5000 entries, 0 to 4999\n",
      "Data columns (total 13 columns):\n",
      " #   Column                    Non-Null Count  Dtype  \n",
      "---  ------                    --------------  -----  \n",
      " 0   age                       5000 non-null   float64\n",
      " 1   anaemia                   5000 non-null   int64  \n",
      " 2   creatinine_phosphokinase  5000 non-null   int64  \n",
      " 3   diabetes                  5000 non-null   int64  \n",
      " 4   ejection_fraction         5000 non-null   int64  \n",
      " 5   high_blood_pressure       5000 non-null   int64  \n",
      " 6   platelets                 5000 non-null   float64\n",
      " 7   serum_creatinine          5000 non-null   float64\n",
      " 8   serum_sodium              5000 non-null   int64  \n",
      " 9   sex                       5000 non-null   int64  \n",
      " 10  smoking                   5000 non-null   int64  \n",
      " 11  time                      5000 non-null   int64  \n",
      " 12  DEATH_EVENT               5000 non-null   int64  \n",
      "dtypes: float64(3), int64(10)\n",
      "memory usage: 507.9 KB\n"
     ]
    }
   ],
   "source": [
    "df.info()"
   ]
  },
  {
   "cell_type": "code",
   "execution_count": 8,
   "id": "b0aada63",
   "metadata": {},
   "outputs": [
    {
     "data": {
      "text/plain": [
       "age                         0\n",
       "anaemia                     0\n",
       "creatinine_phosphokinase    0\n",
       "diabetes                    0\n",
       "ejection_fraction           0\n",
       "high_blood_pressure         0\n",
       "platelets                   0\n",
       "serum_creatinine            0\n",
       "serum_sodium                0\n",
       "sex                         0\n",
       "smoking                     0\n",
       "time                        0\n",
       "DEATH_EVENT                 0\n",
       "dtype: int64"
      ]
     },
     "execution_count": 8,
     "metadata": {},
     "output_type": "execute_result"
    }
   ],
   "source": [
    "#checking for missing values\n",
    "df.isnull().sum()"
   ]
  },
  {
   "cell_type": "code",
   "execution_count": 9,
   "id": "2100142f",
   "metadata": {},
   "outputs": [
    {
     "data": {
      "text/html": [
       "<div>\n",
       "<style scoped>\n",
       "    .dataframe tbody tr th:only-of-type {\n",
       "        vertical-align: middle;\n",
       "    }\n",
       "\n",
       "    .dataframe tbody tr th {\n",
       "        vertical-align: top;\n",
       "    }\n",
       "\n",
       "    .dataframe thead th {\n",
       "        text-align: right;\n",
       "    }\n",
       "</style>\n",
       "<table border=\"1\" class=\"dataframe\">\n",
       "  <thead>\n",
       "    <tr style=\"text-align: right;\">\n",
       "      <th></th>\n",
       "      <th>age</th>\n",
       "      <th>anaemia</th>\n",
       "      <th>creatinine_phosphokinase</th>\n",
       "      <th>diabetes</th>\n",
       "      <th>ejection_fraction</th>\n",
       "      <th>high_blood_pressure</th>\n",
       "      <th>platelets</th>\n",
       "      <th>serum_creatinine</th>\n",
       "      <th>serum_sodium</th>\n",
       "      <th>sex</th>\n",
       "      <th>smoking</th>\n",
       "      <th>time</th>\n",
       "      <th>DEATH_EVENT</th>\n",
       "    </tr>\n",
       "  </thead>\n",
       "  <tbody>\n",
       "    <tr>\n",
       "      <th>count</th>\n",
       "      <td>5000.000000</td>\n",
       "      <td>5000.000000</td>\n",
       "      <td>5000.000000</td>\n",
       "      <td>5000.000000</td>\n",
       "      <td>5000.000000</td>\n",
       "      <td>5000.000000</td>\n",
       "      <td>5000.000000</td>\n",
       "      <td>5000.000000</td>\n",
       "      <td>5000.000000</td>\n",
       "      <td>5000.000000</td>\n",
       "      <td>5000.000000</td>\n",
       "      <td>5000.000000</td>\n",
       "      <td>5000.000000</td>\n",
       "    </tr>\n",
       "    <tr>\n",
       "      <th>mean</th>\n",
       "      <td>60.288736</td>\n",
       "      <td>0.474400</td>\n",
       "      <td>586.760600</td>\n",
       "      <td>0.439400</td>\n",
       "      <td>37.734600</td>\n",
       "      <td>0.364800</td>\n",
       "      <td>265075.404370</td>\n",
       "      <td>1.369106</td>\n",
       "      <td>136.808200</td>\n",
       "      <td>0.645600</td>\n",
       "      <td>0.311800</td>\n",
       "      <td>130.678800</td>\n",
       "      <td>0.313600</td>\n",
       "    </tr>\n",
       "    <tr>\n",
       "      <th>std</th>\n",
       "      <td>11.697243</td>\n",
       "      <td>0.499394</td>\n",
       "      <td>976.733979</td>\n",
       "      <td>0.496364</td>\n",
       "      <td>11.514855</td>\n",
       "      <td>0.481422</td>\n",
       "      <td>97999.758622</td>\n",
       "      <td>1.009750</td>\n",
       "      <td>4.464236</td>\n",
       "      <td>0.478379</td>\n",
       "      <td>0.463275</td>\n",
       "      <td>77.325928</td>\n",
       "      <td>0.464002</td>\n",
       "    </tr>\n",
       "    <tr>\n",
       "      <th>min</th>\n",
       "      <td>40.000000</td>\n",
       "      <td>0.000000</td>\n",
       "      <td>23.000000</td>\n",
       "      <td>0.000000</td>\n",
       "      <td>14.000000</td>\n",
       "      <td>0.000000</td>\n",
       "      <td>25100.000000</td>\n",
       "      <td>0.500000</td>\n",
       "      <td>113.000000</td>\n",
       "      <td>0.000000</td>\n",
       "      <td>0.000000</td>\n",
       "      <td>4.000000</td>\n",
       "      <td>0.000000</td>\n",
       "    </tr>\n",
       "    <tr>\n",
       "      <th>25%</th>\n",
       "      <td>50.000000</td>\n",
       "      <td>0.000000</td>\n",
       "      <td>121.000000</td>\n",
       "      <td>0.000000</td>\n",
       "      <td>30.000000</td>\n",
       "      <td>0.000000</td>\n",
       "      <td>215000.000000</td>\n",
       "      <td>0.900000</td>\n",
       "      <td>134.000000</td>\n",
       "      <td>0.000000</td>\n",
       "      <td>0.000000</td>\n",
       "      <td>74.000000</td>\n",
       "      <td>0.000000</td>\n",
       "    </tr>\n",
       "    <tr>\n",
       "      <th>50%</th>\n",
       "      <td>60.000000</td>\n",
       "      <td>0.000000</td>\n",
       "      <td>248.000000</td>\n",
       "      <td>0.000000</td>\n",
       "      <td>38.000000</td>\n",
       "      <td>0.000000</td>\n",
       "      <td>263358.030000</td>\n",
       "      <td>1.100000</td>\n",
       "      <td>137.000000</td>\n",
       "      <td>1.000000</td>\n",
       "      <td>0.000000</td>\n",
       "      <td>113.000000</td>\n",
       "      <td>0.000000</td>\n",
       "    </tr>\n",
       "    <tr>\n",
       "      <th>75%</th>\n",
       "      <td>68.000000</td>\n",
       "      <td>1.000000</td>\n",
       "      <td>582.000000</td>\n",
       "      <td>1.000000</td>\n",
       "      <td>45.000000</td>\n",
       "      <td>1.000000</td>\n",
       "      <td>310000.000000</td>\n",
       "      <td>1.400000</td>\n",
       "      <td>140.000000</td>\n",
       "      <td>1.000000</td>\n",
       "      <td>1.000000</td>\n",
       "      <td>201.000000</td>\n",
       "      <td>1.000000</td>\n",
       "    </tr>\n",
       "    <tr>\n",
       "      <th>max</th>\n",
       "      <td>95.000000</td>\n",
       "      <td>1.000000</td>\n",
       "      <td>7861.000000</td>\n",
       "      <td>1.000000</td>\n",
       "      <td>80.000000</td>\n",
       "      <td>1.000000</td>\n",
       "      <td>850000.000000</td>\n",
       "      <td>9.400000</td>\n",
       "      <td>148.000000</td>\n",
       "      <td>1.000000</td>\n",
       "      <td>1.000000</td>\n",
       "      <td>285.000000</td>\n",
       "      <td>1.000000</td>\n",
       "    </tr>\n",
       "  </tbody>\n",
       "</table>\n",
       "</div>"
      ],
      "text/plain": [
       "               age      anaemia  creatinine_phosphokinase     diabetes  \\\n",
       "count  5000.000000  5000.000000               5000.000000  5000.000000   \n",
       "mean     60.288736     0.474400                586.760600     0.439400   \n",
       "std      11.697243     0.499394                976.733979     0.496364   \n",
       "min      40.000000     0.000000                 23.000000     0.000000   \n",
       "25%      50.000000     0.000000                121.000000     0.000000   \n",
       "50%      60.000000     0.000000                248.000000     0.000000   \n",
       "75%      68.000000     1.000000                582.000000     1.000000   \n",
       "max      95.000000     1.000000               7861.000000     1.000000   \n",
       "\n",
       "       ejection_fraction  high_blood_pressure      platelets  \\\n",
       "count        5000.000000          5000.000000    5000.000000   \n",
       "mean           37.734600             0.364800  265075.404370   \n",
       "std            11.514855             0.481422   97999.758622   \n",
       "min            14.000000             0.000000   25100.000000   \n",
       "25%            30.000000             0.000000  215000.000000   \n",
       "50%            38.000000             0.000000  263358.030000   \n",
       "75%            45.000000             1.000000  310000.000000   \n",
       "max            80.000000             1.000000  850000.000000   \n",
       "\n",
       "       serum_creatinine  serum_sodium          sex      smoking         time  \\\n",
       "count       5000.000000   5000.000000  5000.000000  5000.000000  5000.000000   \n",
       "mean           1.369106    136.808200     0.645600     0.311800   130.678800   \n",
       "std            1.009750      4.464236     0.478379     0.463275    77.325928   \n",
       "min            0.500000    113.000000     0.000000     0.000000     4.000000   \n",
       "25%            0.900000    134.000000     0.000000     0.000000    74.000000   \n",
       "50%            1.100000    137.000000     1.000000     0.000000   113.000000   \n",
       "75%            1.400000    140.000000     1.000000     1.000000   201.000000   \n",
       "max            9.400000    148.000000     1.000000     1.000000   285.000000   \n",
       "\n",
       "       DEATH_EVENT  \n",
       "count  5000.000000  \n",
       "mean      0.313600  \n",
       "std       0.464002  \n",
       "min       0.000000  \n",
       "25%       0.000000  \n",
       "50%       0.000000  \n",
       "75%       1.000000  \n",
       "max       1.000000  "
      ]
     },
     "execution_count": 9,
     "metadata": {},
     "output_type": "execute_result"
    }
   ],
   "source": [
    "#statistical measures about the data\n",
    "df.describe()"
   ]
  },
  {
   "cell_type": "code",
   "execution_count": 10,
   "id": "bbbcb929",
   "metadata": {},
   "outputs": [
    {
     "data": {
      "text/plain": [
       "DEATH_EVENT\n",
       "0    3432\n",
       "1    1568\n",
       "Name: count, dtype: int64"
      ]
     },
     "execution_count": 10,
     "metadata": {},
     "output_type": "execute_result"
    }
   ],
   "source": [
    "#checking how many people have heart disease how many don't have\n",
    "df['DEATH_EVENT'].value_counts()"
   ]
  },
  {
   "cell_type": "code",
   "execution_count": 11,
   "id": "b47154e8",
   "metadata": {},
   "outputs": [],
   "source": [
    "#3432 people does not have any heart disease\n",
    "#the distribution is not quite similar means no of patients with heart disease is quite less than no of patients with no heart disease\n",
    "#two class contain different number ratio so processing is required"
   ]
  },
  {
   "cell_type": "code",
   "execution_count": 12,
   "id": "67a02606",
   "metadata": {},
   "outputs": [],
   "source": [
    "# 1-->Defective heart\n",
    "# 0-->healthy heart"
   ]
  },
  {
   "cell_type": "code",
   "execution_count": 13,
   "id": "4934e25d",
   "metadata": {},
   "outputs": [],
   "source": [
    "#spliting the features and target:target means output and features means other like age,high blood pressure etc"
   ]
  },
  {
   "cell_type": "code",
   "execution_count": 14,
   "id": "3d45fe58",
   "metadata": {},
   "outputs": [],
   "source": [
    "x=df.drop(columns='DEATH_EVENT',axis=1)\n",
    "y=df['DEATH_EVENT']"
   ]
  },
  {
   "cell_type": "code",
   "execution_count": 16,
   "id": "a9b96a8b",
   "metadata": {},
   "outputs": [
    {
     "name": "stdout",
     "output_type": "stream",
     "text": [
      "       age  anaemia  creatinine_phosphokinase  diabetes  ejection_fraction  \\\n",
      "0     55.0        0                       748         0                 45   \n",
      "1     65.0        0                        56         0                 25   \n",
      "2     45.0        0                       582         1                 38   \n",
      "3     60.0        1                       754         1                 40   \n",
      "4     95.0        1                       582         0                 30   \n",
      "...    ...      ...                       ...       ...                ...   \n",
      "4995  45.0        0                       582         1                 55   \n",
      "4996  60.0        1                       582         0                 30   \n",
      "4997  95.0        1                       112         0                 40   \n",
      "4998  65.0        1                       160         1                 20   \n",
      "4999  40.0        0                       244         0                 45   \n",
      "\n",
      "      high_blood_pressure  platelets  serum_creatinine  serum_sodium  sex  \\\n",
      "0                       0  263358.03               1.3           137    1   \n",
      "1                       0  305000.00               5.0           130    1   \n",
      "2                       0  319000.00               0.9           140    0   \n",
      "3                       1  328000.00               1.2           126    1   \n",
      "4                       0  461000.00               2.0           132    1   \n",
      "...                   ...        ...               ...           ...  ...   \n",
      "4995                    0  543000.00               1.0           132    0   \n",
      "4996                    1  127000.00               0.9           145    0   \n",
      "4997                    1  196000.00               1.0           138    0   \n",
      "4998                    0  327000.00               2.7           116    0   \n",
      "4999                    1  275000.00               0.9           140    0   \n",
      "\n",
      "      smoking  time  \n",
      "0           1    88  \n",
      "1           0   207  \n",
      "2           0   244  \n",
      "3           0    90  \n",
      "4           0    50  \n",
      "...       ...   ...  \n",
      "4995        0   250  \n",
      "4996        0    95  \n",
      "4997        0    24  \n",
      "4998        0     8  \n",
      "4999        0   174  \n",
      "\n",
      "[5000 rows x 12 columns]\n"
     ]
    }
   ],
   "source": [
    "print(x)\n"
   ]
  },
  {
   "cell_type": "code",
   "execution_count": 17,
   "id": "8a4e0259",
   "metadata": {},
   "outputs": [
    {
     "name": "stdout",
     "output_type": "stream",
     "text": [
      "0       0\n",
      "1       0\n",
      "2       0\n",
      "3       0\n",
      "4       1\n",
      "       ..\n",
      "4995    0\n",
      "4996    0\n",
      "4997    1\n",
      "4998    1\n",
      "4999    0\n",
      "Name: DEATH_EVENT, Length: 5000, dtype: int64\n"
     ]
    }
   ],
   "source": [
    "print(y)"
   ]
  },
  {
   "cell_type": "code",
   "execution_count": 18,
   "id": "7a681487",
   "metadata": {},
   "outputs": [],
   "source": [
    "#spliting the data into training data and test data"
   ]
  },
  {
   "cell_type": "code",
   "execution_count": 19,
   "id": "3819bed0",
   "metadata": {},
   "outputs": [],
   "source": [
    "#x_train contain features of all training data ,x_test contain features of all test data\n",
    "#y_train contain features of target"
   ]
  },
  {
   "cell_type": "code",
   "execution_count": 20,
   "id": "8ac50733",
   "metadata": {},
   "outputs": [],
   "source": [
    "x_train,x_test,y_train,y_test=train_test_split(x,y,test_size=0.2,stratify=y,random_state=2) #stratified is equal to y thest two  \n",
    "#classes 0 or 1 which are distributed in an even manner throughtout training and testing data\n",
    "\n",
    "#random can be any number u want"
   ]
  },
  {
   "cell_type": "code",
   "execution_count": 21,
   "id": "629bf938",
   "metadata": {},
   "outputs": [
    {
     "name": "stdout",
     "output_type": "stream",
     "text": [
      "(5000, 12) (4000, 12) (1000, 12)\n"
     ]
    }
   ],
   "source": [
    "print(x.shape,x_train.shape,x_test.shape)"
   ]
  },
  {
   "cell_type": "code",
   "execution_count": 22,
   "id": "6aac9a20",
   "metadata": {},
   "outputs": [],
   "source": [
    "#Model training "
   ]
  },
  {
   "cell_type": "code",
   "execution_count": 23,
   "id": "cf8f4848",
   "metadata": {},
   "outputs": [],
   "source": [
    "#logistic Regression also used for classification problem as well"
   ]
  },
  {
   "cell_type": "code",
   "execution_count": 24,
   "id": "5f6a4de7",
   "metadata": {},
   "outputs": [],
   "source": [
    "model=LogisticRegression()"
   ]
  },
  {
   "cell_type": "code",
   "execution_count": 27,
   "id": "425de60c",
   "metadata": {},
   "outputs": [
    {
     "name": "stderr",
     "output_type": "stream",
     "text": [
      "D:\\anaconda\\Lib\\site-packages\\sklearn\\linear_model\\_logistic.py:460: ConvergenceWarning: lbfgs failed to converge (status=1):\n",
      "STOP: TOTAL NO. of ITERATIONS REACHED LIMIT.\n",
      "\n",
      "Increase the number of iterations (max_iter) or scale the data as shown in:\n",
      "    https://scikit-learn.org/stable/modules/preprocessing.html\n",
      "Please also refer to the documentation for alternative solver options:\n",
      "    https://scikit-learn.org/stable/modules/linear_model.html#logistic-regression\n",
      "  n_iter_i = _check_optimize_result(\n"
     ]
    },
    {
     "data": {
      "text/html": [
       "<style>#sk-container-id-1 {color: black;}#sk-container-id-1 pre{padding: 0;}#sk-container-id-1 div.sk-toggleable {background-color: white;}#sk-container-id-1 label.sk-toggleable__label {cursor: pointer;display: block;width: 100%;margin-bottom: 0;padding: 0.3em;box-sizing: border-box;text-align: center;}#sk-container-id-1 label.sk-toggleable__label-arrow:before {content: \"▸\";float: left;margin-right: 0.25em;color: #696969;}#sk-container-id-1 label.sk-toggleable__label-arrow:hover:before {color: black;}#sk-container-id-1 div.sk-estimator:hover label.sk-toggleable__label-arrow:before {color: black;}#sk-container-id-1 div.sk-toggleable__content {max-height: 0;max-width: 0;overflow: hidden;text-align: left;background-color: #f0f8ff;}#sk-container-id-1 div.sk-toggleable__content pre {margin: 0.2em;color: black;border-radius: 0.25em;background-color: #f0f8ff;}#sk-container-id-1 input.sk-toggleable__control:checked~div.sk-toggleable__content {max-height: 200px;max-width: 100%;overflow: auto;}#sk-container-id-1 input.sk-toggleable__control:checked~label.sk-toggleable__label-arrow:before {content: \"▾\";}#sk-container-id-1 div.sk-estimator input.sk-toggleable__control:checked~label.sk-toggleable__label {background-color: #d4ebff;}#sk-container-id-1 div.sk-label input.sk-toggleable__control:checked~label.sk-toggleable__label {background-color: #d4ebff;}#sk-container-id-1 input.sk-hidden--visually {border: 0;clip: rect(1px 1px 1px 1px);clip: rect(1px, 1px, 1px, 1px);height: 1px;margin: -1px;overflow: hidden;padding: 0;position: absolute;width: 1px;}#sk-container-id-1 div.sk-estimator {font-family: monospace;background-color: #f0f8ff;border: 1px dotted black;border-radius: 0.25em;box-sizing: border-box;margin-bottom: 0.5em;}#sk-container-id-1 div.sk-estimator:hover {background-color: #d4ebff;}#sk-container-id-1 div.sk-parallel-item::after {content: \"\";width: 100%;border-bottom: 1px solid gray;flex-grow: 1;}#sk-container-id-1 div.sk-label:hover label.sk-toggleable__label {background-color: #d4ebff;}#sk-container-id-1 div.sk-serial::before {content: \"\";position: absolute;border-left: 1px solid gray;box-sizing: border-box;top: 0;bottom: 0;left: 50%;z-index: 0;}#sk-container-id-1 div.sk-serial {display: flex;flex-direction: column;align-items: center;background-color: white;padding-right: 0.2em;padding-left: 0.2em;position: relative;}#sk-container-id-1 div.sk-item {position: relative;z-index: 1;}#sk-container-id-1 div.sk-parallel {display: flex;align-items: stretch;justify-content: center;background-color: white;position: relative;}#sk-container-id-1 div.sk-item::before, #sk-container-id-1 div.sk-parallel-item::before {content: \"\";position: absolute;border-left: 1px solid gray;box-sizing: border-box;top: 0;bottom: 0;left: 50%;z-index: -1;}#sk-container-id-1 div.sk-parallel-item {display: flex;flex-direction: column;z-index: 1;position: relative;background-color: white;}#sk-container-id-1 div.sk-parallel-item:first-child::after {align-self: flex-end;width: 50%;}#sk-container-id-1 div.sk-parallel-item:last-child::after {align-self: flex-start;width: 50%;}#sk-container-id-1 div.sk-parallel-item:only-child::after {width: 0;}#sk-container-id-1 div.sk-dashed-wrapped {border: 1px dashed gray;margin: 0 0.4em 0.5em 0.4em;box-sizing: border-box;padding-bottom: 0.4em;background-color: white;}#sk-container-id-1 div.sk-label label {font-family: monospace;font-weight: bold;display: inline-block;line-height: 1.2em;}#sk-container-id-1 div.sk-label-container {text-align: center;}#sk-container-id-1 div.sk-container {/* jupyter's `normalize.less` sets `[hidden] { display: none; }` but bootstrap.min.css set `[hidden] { display: none !important; }` so we also need the `!important` here to be able to override the default hidden behavior on the sphinx rendered scikit-learn.org. See: https://github.com/scikit-learn/scikit-learn/issues/21755 */display: inline-block !important;position: relative;}#sk-container-id-1 div.sk-text-repr-fallback {display: none;}</style><div id=\"sk-container-id-1\" class=\"sk-top-container\"><div class=\"sk-text-repr-fallback\"><pre>LogisticRegression()</pre><b>In a Jupyter environment, please rerun this cell to show the HTML representation or trust the notebook. <br />On GitHub, the HTML representation is unable to render, please try loading this page with nbviewer.org.</b></div><div class=\"sk-container\" hidden><div class=\"sk-item\"><div class=\"sk-estimator sk-toggleable\"><input class=\"sk-toggleable__control sk-hidden--visually\" id=\"sk-estimator-id-1\" type=\"checkbox\" checked><label for=\"sk-estimator-id-1\" class=\"sk-toggleable__label sk-toggleable__label-arrow\">LogisticRegression</label><div class=\"sk-toggleable__content\"><pre>LogisticRegression()</pre></div></div></div></div></div>"
      ],
      "text/plain": [
       "LogisticRegression()"
      ]
     },
     "execution_count": 27,
     "metadata": {},
     "output_type": "execute_result"
    }
   ],
   "source": [
    "#training the logisticRegresion model with training data\n",
    "\n",
    "model.fit(x_train,y_train)"
   ]
  },
  {
   "cell_type": "code",
   "execution_count": 28,
   "id": "4e67fed0",
   "metadata": {},
   "outputs": [],
   "source": [
    "#accuracy on training data\n",
    "x_train_prediction=model.predict(x_train)\n",
    "training_data_acc=accuracy_score(x_train_prediction,y_train)"
   ]
  },
  {
   "cell_type": "code",
   "execution_count": 29,
   "id": "1a6030e2",
   "metadata": {},
   "outputs": [
    {
     "name": "stdout",
     "output_type": "stream",
     "text": [
      "Accuracy on Training data:  0.84175\n"
     ]
    }
   ],
   "source": [
    "print('Accuracy on Training data: ',training_data_acc)"
   ]
  },
  {
   "cell_type": "code",
   "execution_count": 31,
   "id": "14ba4489",
   "metadata": {},
   "outputs": [
    {
     "name": "stdout",
     "output_type": "stream",
     "text": [
      "Accuracy on testing data:  0.857\n"
     ]
    }
   ],
   "source": [
    "x_test_prediction=model.predict(x_test)\n",
    "training_data_accuracy=accuracy_score(x_test_prediction,y_test)\n",
    "print(\"Accuracy on testing data: \",training_data_accuracy)"
   ]
  },
  {
   "cell_type": "code",
   "execution_count": 32,
   "id": "5cff1ff7",
   "metadata": {},
   "outputs": [],
   "source": [
    "#note:accuracy on the training and testing data should be almost similar \n",
    "#if accuracy on training data is large and on test data is small it is overfitting\n"
   ]
  },
  {
   "cell_type": "code",
   "execution_count": 33,
   "id": "e2f174c7",
   "metadata": {},
   "outputs": [],
   "source": [
    "#building a predictive system"
   ]
  },
  {
   "cell_type": "code",
   "execution_count": 34,
   "id": "8e658ec5",
   "metadata": {},
   "outputs": [
    {
     "name": "stdout",
     "output_type": "stream",
     "text": [
      "[0]\n"
     ]
    },
    {
     "name": "stderr",
     "output_type": "stream",
     "text": [
      "D:\\anaconda\\Lib\\site-packages\\sklearn\\base.py:464: UserWarning: X does not have valid feature names, but LogisticRegression was fitted with feature names\n",
      "  warnings.warn(\n"
     ]
    }
   ],
   "source": [
    "input_data=(65.0,0,56,0,25,0,305000.0,5.0,130,1,0,207)\n",
    "\n",
    "#change the input data to a numpy array because it is easy to reshape in numpy array instead of tuple\n",
    "\n",
    "data_numpy=np.asarray(input_data)\n",
    "\n",
    "#reshape the numpy array as we are predicting for only on instance\n",
    "\n",
    "input_data_reshaped=data_numpy.reshape(1,-1)\n",
    "\n",
    "prediction=model.predict(input_data_reshaped)\n",
    "\n",
    "print(prediction)\n",
    "\n"
   ]
  },
  {
   "cell_type": "code",
   "execution_count": 35,
   "id": "af826c3c",
   "metadata": {},
   "outputs": [
    {
     "name": "stdout",
     "output_type": "stream",
     "text": [
      "The person does not have heart disease\n"
     ]
    }
   ],
   "source": [
    "#it is in listed form \n",
    "if (prediction[0]==0):\n",
    "    print(\"The person does not have heart disease\")\n",
    "else:\n",
    "    print(\"The person has heart disease\")"
   ]
  },
  {
   "cell_type": "code",
   "execution_count": 38,
   "id": "60352cf2",
   "metadata": {},
   "outputs": [
    {
     "name": "stdout",
     "output_type": "stream",
     "text": [
      "[1]\n",
      "The person has heart disease\n"
     ]
    },
    {
     "name": "stderr",
     "output_type": "stream",
     "text": [
      "D:\\anaconda\\Lib\\site-packages\\sklearn\\base.py:464: UserWarning: X does not have valid feature names, but LogisticRegression was fitted with feature names\n",
      "  warnings.warn(\n"
     ]
    }
   ],
   "source": [
    "data2=(95.0,1,582,0,30,0,461000.0,2.0,132,1,0,50)\n",
    "data=np.asarray(data2)\n",
    "re_shape=data.reshape(1,-1)\n",
    "pre=model.predict(re_shape)\n",
    "print(pre)\n",
    "if (pre==0):\n",
    "    print(\"The person does not have heart disease\")\n",
    "else:\n",
    "    print(\"The person has heart disease\")\n"
   ]
  },
  {
   "cell_type": "code",
   "execution_count": 40,
   "id": "e1509e1a",
   "metadata": {},
   "outputs": [
    {
     "name": "stdout",
     "output_type": "stream",
     "text": [
      "[1]\n",
      "The person has heart disease\n"
     ]
    },
    {
     "name": "stderr",
     "output_type": "stream",
     "text": [
      "D:\\anaconda\\Lib\\site-packages\\sklearn\\base.py:464: UserWarning: X does not have valid feature names, but LogisticRegression was fitted with feature names\n",
      "  warnings.warn(\n"
     ]
    }
   ],
   "source": [
    "data3=(42.0,1,86,1,15,0,213000.0,1.3,136,0,0,65)\n",
    "\n",
    "data3_num=np.asarray(data3)\n",
    "\n",
    "re_shape3=data3_num.reshape(1,-1)\n",
    "\n",
    "pre3=model.predict(re_shape3)\n",
    "\n",
    "print(pre3)\n",
    "\n",
    "if (pre3==0):\n",
    "    print(\"The person does not have heart disease\")\n",
    "else:\n",
    "    print(\"The person has heart disease\")"
   ]
  },
  {
   "cell_type": "code",
   "execution_count": 43,
   "id": "7aea0667",
   "metadata": {},
   "outputs": [
    {
     "name": "stdout",
     "output_type": "stream",
     "text": [
      "[0]\n",
      "The person does not have heart disease\n"
     ]
    },
    {
     "name": "stderr",
     "output_type": "stream",
     "text": [
      "D:\\anaconda\\Lib\\site-packages\\sklearn\\base.py:464: UserWarning: X does not have valid feature names, but LogisticRegression was fitted with feature names\n",
      "  warnings.warn(\n"
     ]
    }
   ],
   "source": [
    "data4=(55.0,0,2017,0,35,1,141000.0,1.0,140,1,0,206)\n",
    "\n",
    "data4=np.asarray(data4)\n",
    "\n",
    "data4_reshape=data4.reshape(1,-1)\n",
    "\n",
    "data4_predict=model.predict(data4_reshape)\n",
    "\n",
    "print(data4_predict)\n",
    "\n",
    "if (data4_predict==0):\n",
    "    print('The person does not have heart disease')\n",
    "else:\n",
    "    print(\"The person has heart disease\")"
   ]
  },
  {
   "cell_type": "code",
   "execution_count": null,
   "id": "d2b82e1f",
   "metadata": {},
   "outputs": [],
   "source": []
  }
 ],
 "metadata": {
  "kernelspec": {
   "display_name": "Python 3 (ipykernel)",
   "language": "python",
   "name": "python3"
  },
  "language_info": {
   "codemirror_mode": {
    "name": "ipython",
    "version": 3
   },
   "file_extension": ".py",
   "mimetype": "text/x-python",
   "name": "python",
   "nbconvert_exporter": "python",
   "pygments_lexer": "ipython3",
   "version": "3.11.5"
  }
 },
 "nbformat": 4,
 "nbformat_minor": 5
}
